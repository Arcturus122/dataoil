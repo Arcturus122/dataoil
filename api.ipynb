{
 "cells": [
  {
   "cell_type": "code",
   "execution_count": null,
   "metadata": {},
   "outputs": [],
   "source": [
    "# default_exp api"
   ]
  },
  {
   "cell_type": "markdown",
   "metadata": {},
   "source": [
    "# Api module\n",
    "\n",
    "> This module use eia API in order to fetch oil data. The only thing you need is to create an "
   ]
  },
  {
   "cell_type": "code",
   "execution_count": null,
   "metadata": {},
   "outputs": [],
   "source": [
    "#hide\n",
    "from nbdev.showdoc import *"
   ]
  },
  {
   "cell_type": "code",
   "execution_count": null,
   "metadata": {},
   "outputs": [],
   "source": [
    "#export\n",
    "import urllib.request, urllib.error, json, os, datetime\n",
    "import pandas as pd\n",
    "\n",
    "series = {\n",
    "    \"WTI\":\"PET.RWTC.D\",\n",
    "    \"BRENT\":\"PET.RBRTE.D\"\n",
    "}\n",
    "\n",
    "class Api:\n",
    "    \"class responsible for fetching data from EIA using your `api_key`\"\n",
    "    def __init__(self, api_key=None):\n",
    "        \"if `api_key` is None then it will automatically read your credentials.json file to find the api_key key\"\n",
    "        if api_key is not None:\n",
    "            self.api_key = api_key\n",
    "        else:\n",
    "            try:\n",
    "                with open('credentials.json','r') as f:\n",
    "                    data = json.load(f)\n",
    "                    self.api_key = data['api_key']\n",
    "            except:\n",
    "                print('could not read credentials.json or get api_key value from it')\n",
    "        \n",
    "    def _request(self, url):\n",
    "        \"request an EIA endpoint `url` and return a json object\"\n",
    "        try:\n",
    "            with urllib.request.urlopen(url) as url:\n",
    "                return json.loads(url.read().decode())\n",
    "        except urllib.error.URLError as e:\n",
    "            print(e.reason)\n",
    "        except json.JSONDecodeError as e:\n",
    "            print(e)  \n",
    "            \n",
    "    def fetch_spot(self, series_id=\"WTI\"):\n",
    "        \"fetch spot price of a specific `series_id` e.g BRENT or WTI and return a pandas DataFrame\"\n",
    "        if series_id not in series.keys():\n",
    "            raise ValueError('{} not recognized as a valid series id'.format(series_id))\n",
    "        url = 'http://api.eia.gov/series/?api_key={}&series_id={}'.format(self.api_key, series[series_id])\n",
    "        data = self._request(url)\n",
    "        df = pd.DataFrame(data['series'][0]['data'])\n",
    "        df.columns = ['date','price']\n",
    "        df.date = df.date.apply(lambda x : datetime.datetime.strptime(x, '%Y%m%d'))\n",
    "        return df\n",
    "        "
   ]
  },
  {
   "cell_type": "code",
   "execution_count": null,
   "metadata": {},
   "outputs": [
    {
     "data": {
      "text/markdown": [
       "<h4 id=\"Api.__init__\" class=\"doc_header\"><code>Api.__init__</code><a href=\"__main__.py#L12\" class=\"source_link\" style=\"float:right\">[source]</a></h4>\n",
       "\n",
       "> <code>Api.__init__</code>(**`api_key`**=*`None`*)\n",
       "\n",
       "if `api_key` is None then it will automatically read your credentials.json file to find the api_key key"
      ],
      "text/plain": [
       "<IPython.core.display.Markdown object>"
      ]
     },
     "metadata": {},
     "output_type": "display_data"
    },
    {
     "data": {
      "text/markdown": [
       "<h4 id=\"Api._request\" class=\"doc_header\"><code>Api._request</code><a href=\"__main__.py#L24\" class=\"source_link\" style=\"float:right\">[source]</a></h4>\n",
       "\n",
       "> <code>Api._request</code>(**`url`**)\n",
       "\n",
       "request an EIA endpoint `url` and return a json object"
      ],
      "text/plain": [
       "<IPython.core.display.Markdown object>"
      ]
     },
     "metadata": {},
     "output_type": "display_data"
    },
    {
     "data": {
      "text/markdown": [
       "<h4 id=\"Api.fetch_spot\" class=\"doc_header\"><code>Api.fetch_spot</code><a href=\"__main__.py#L34\" class=\"source_link\" style=\"float:right\">[source]</a></h4>\n",
       "\n",
       "> <code>Api.fetch_spot</code>(**`series_id`**=*`'WTI'`*)\n",
       "\n",
       "fetch spot price of a specific `series_id` e.g BRENT or WTI and return a pandas DataFrame"
      ],
      "text/plain": [
       "<IPython.core.display.Markdown object>"
      ]
     },
     "metadata": {},
     "output_type": "display_data"
    }
   ],
   "source": [
    "show_doc(Api.__init__)\n",
    "show_doc(Api._request)\n",
    "show_doc(Api.fetch_spot)"
   ]
  },
  {
   "cell_type": "code",
   "execution_count": null,
   "metadata": {},
   "outputs": [
    {
     "data": {
      "text/html": [
       "<div>\n",
       "<style scoped>\n",
       "    .dataframe tbody tr th:only-of-type {\n",
       "        vertical-align: middle;\n",
       "    }\n",
       "\n",
       "    .dataframe tbody tr th {\n",
       "        vertical-align: top;\n",
       "    }\n",
       "\n",
       "    .dataframe thead th {\n",
       "        text-align: right;\n",
       "    }\n",
       "</style>\n",
       "<table border=\"1\" class=\"dataframe\">\n",
       "  <thead>\n",
       "    <tr style=\"text-align: right;\">\n",
       "      <th></th>\n",
       "      <th>date</th>\n",
       "      <th>price</th>\n",
       "    </tr>\n",
       "  </thead>\n",
       "  <tbody>\n",
       "    <tr>\n",
       "      <th>0</th>\n",
       "      <td>2020-06-23</td>\n",
       "      <td>40.40</td>\n",
       "    </tr>\n",
       "    <tr>\n",
       "      <th>1</th>\n",
       "      <td>2020-06-22</td>\n",
       "      <td>40.60</td>\n",
       "    </tr>\n",
       "    <tr>\n",
       "      <th>2</th>\n",
       "      <td>2020-06-19</td>\n",
       "      <td>39.72</td>\n",
       "    </tr>\n",
       "    <tr>\n",
       "      <th>3</th>\n",
       "      <td>2020-06-18</td>\n",
       "      <td>38.79</td>\n",
       "    </tr>\n",
       "    <tr>\n",
       "      <th>4</th>\n",
       "      <td>2020-06-17</td>\n",
       "      <td>37.91</td>\n",
       "    </tr>\n",
       "  </tbody>\n",
       "</table>\n",
       "</div>"
      ],
      "text/plain": [
       "        date  price\n",
       "0 2020-06-23  40.40\n",
       "1 2020-06-22  40.60\n",
       "2 2020-06-19  39.72\n",
       "3 2020-06-18  38.79\n",
       "4 2020-06-17  37.91"
      ]
     },
     "execution_count": null,
     "metadata": {},
     "output_type": "execute_result"
    }
   ],
   "source": [
    "api = Api()\n",
    "wti = api.fetch_spot('WTI')\n",
    "wti.head()"
   ]
  }
 ],
 "metadata": {
  "kernelspec": {
   "display_name": "Python 3",
   "language": "python",
   "name": "python3"
  }
 },
 "nbformat": 4,
 "nbformat_minor": 2
}
