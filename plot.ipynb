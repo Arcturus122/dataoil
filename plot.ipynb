{
 "cells": [
  {
   "cell_type": "code",
   "execution_count": null,
   "metadata": {},
   "outputs": [],
   "source": [
    "# default_exp plot"
   ]
  },
  {
   "cell_type": "markdown",
   "metadata": {},
   "source": [
    "# Plot module\n",
    "\n",
    "> This module allow to plot things easily using matplotlib and seaborn"
   ]
  },
  {
   "cell_type": "code",
   "execution_count": null,
   "metadata": {},
   "outputs": [],
   "source": [
    "#hide\n",
    "from nbdev.showdoc import *"
   ]
  },
  {
   "cell_type": "code",
   "execution_count": null,
   "metadata": {},
   "outputs": [],
   "source": [
    "#export\n",
    "import matplotlib.pyplot as plt\n",
    "import seaborn as sns\n",
    "\n",
    "def plot1(x,y,figsize=(15,10),style='ggplot', title=None,label=None, xlabel=None, ylabel=None):\n",
    "    \"allow you to plot one curve. It uses matplotlib plot function. `x` and `y` are both 1D list\"\n",
    "    fig = plt.figure(figsize=figsize)\n",
    "    plt.xlabel(xlabel)\n",
    "    plt.ylabel(ylabel)\n",
    "    plt.title(title)\n",
    "    plt.style.use(style)\n",
    "    plt.plot(x, y, label=label)\n",
    "    plt.legend()\n",
    "    plt.show()\n",
    "    \n",
    "def plotN(xs,ys,figsize=(15,10),style='ggplot', title=None,labels=None, xlabel=None, ylabel=None):\n",
    "    \"allow you to plot n curves on the same graph. It uses matplotlib plot function. `xs` and `ys` are both ND lists\"\n",
    "    fig = plt.figure(figsize=figsize)\n",
    "    plt.xlabel(xlabel)\n",
    "    plt.ylabel(ylabel)\n",
    "    plt.title(title)\n",
    "    plt.style.use(style)\n",
    "    for x,y in zip(xs,ys):\n",
    "        plt.plot(x, y)\n",
    "    plt.legend(labels)\n",
    "    plt.show()\n",
    "    \n",
    "def distplot(x,figsize=(15,10),style='ggplot', title=None):\n",
    "    \"allow you to plot the distribution of a random variable `x`\"\n",
    "    fig = plt.figure(figsize=figsize)\n",
    "    plt.title(title)\n",
    "    plt.style.use(style)\n",
    "    sns.distplot(x)\n",
    "    plt.show()"
   ]
  }
 ],
 "metadata": {
  "kernelspec": {
   "display_name": "Python 3",
   "language": "python",
   "name": "python3"
  }
 },
 "nbformat": 4,
 "nbformat_minor": 4
}
